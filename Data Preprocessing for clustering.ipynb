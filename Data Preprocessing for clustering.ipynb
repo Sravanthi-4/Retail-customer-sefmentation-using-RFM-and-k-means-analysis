{
 "cells": [
  {
   "cell_type": "code",
   "execution_count": 1,
   "id": "661cf9b6",
   "metadata": {},
   "outputs": [],
   "source": [
    "#import libraries\n",
    "import numpy as np\n",
    "import pandas as pd\n",
    "import seaborn as sns\n",
    "import matplotlib.pyplot as plt\n",
    "\n",
    "from scipy import stats\n",
    "from sklearn.preprocessing import StandardScaler"
   ]
  },
  {
   "cell_type": "code",
   "execution_count": 2,
   "id": "4f0cdf02",
   "metadata": {},
   "outputs": [],
   "source": [
    "#read the rfm table calculated on the rfm analysis file\n",
    "rfm = pd.read_csv('RFM.csv')"
   ]
  },
  {
   "cell_type": "code",
   "execution_count": 3,
   "id": "671a7fdc",
   "metadata": {},
   "outputs": [
    {
     "data": {
      "text/html": [
       "<div>\n",
       "<style scoped>\n",
       "    .dataframe tbody tr th:only-of-type {\n",
       "        vertical-align: middle;\n",
       "    }\n",
       "\n",
       "    .dataframe tbody tr th {\n",
       "        vertical-align: top;\n",
       "    }\n",
       "\n",
       "    .dataframe thead th {\n",
       "        text-align: right;\n",
       "    }\n",
       "</style>\n",
       "<table border=\"1\" class=\"dataframe\">\n",
       "  <thead>\n",
       "    <tr style=\"text-align: right;\">\n",
       "      <th></th>\n",
       "      <th>Customer ID</th>\n",
       "      <th>Recency</th>\n",
       "      <th>Frequency</th>\n",
       "      <th>MonetaryValue</th>\n",
       "    </tr>\n",
       "  </thead>\n",
       "  <tbody>\n",
       "    <tr>\n",
       "      <th>0</th>\n",
       "      <td>12346.0</td>\n",
       "      <td>326</td>\n",
       "      <td>34</td>\n",
       "      <td>77556.46</td>\n",
       "    </tr>\n",
       "    <tr>\n",
       "      <th>1</th>\n",
       "      <td>12347.0</td>\n",
       "      <td>3</td>\n",
       "      <td>222</td>\n",
       "      <td>4921.53</td>\n",
       "    </tr>\n",
       "    <tr>\n",
       "      <th>2</th>\n",
       "      <td>12348.0</td>\n",
       "      <td>76</td>\n",
       "      <td>51</td>\n",
       "      <td>2019.40</td>\n",
       "    </tr>\n",
       "    <tr>\n",
       "      <th>3</th>\n",
       "      <td>12349.0</td>\n",
       "      <td>19</td>\n",
       "      <td>175</td>\n",
       "      <td>4428.69</td>\n",
       "    </tr>\n",
       "    <tr>\n",
       "      <th>4</th>\n",
       "      <td>12350.0</td>\n",
       "      <td>311</td>\n",
       "      <td>17</td>\n",
       "      <td>334.40</td>\n",
       "    </tr>\n",
       "    <tr>\n",
       "      <th>...</th>\n",
       "      <td>...</td>\n",
       "      <td>...</td>\n",
       "      <td>...</td>\n",
       "      <td>...</td>\n",
       "    </tr>\n",
       "    <tr>\n",
       "      <th>5873</th>\n",
       "      <td>18283.0</td>\n",
       "      <td>4</td>\n",
       "      <td>938</td>\n",
       "      <td>2664.90</td>\n",
       "    </tr>\n",
       "    <tr>\n",
       "      <th>5874</th>\n",
       "      <td>18284.0</td>\n",
       "      <td>432</td>\n",
       "      <td>28</td>\n",
       "      <td>461.68</td>\n",
       "    </tr>\n",
       "    <tr>\n",
       "      <th>5875</th>\n",
       "      <td>18285.0</td>\n",
       "      <td>661</td>\n",
       "      <td>12</td>\n",
       "      <td>427.00</td>\n",
       "    </tr>\n",
       "    <tr>\n",
       "      <th>5876</th>\n",
       "      <td>18286.0</td>\n",
       "      <td>477</td>\n",
       "      <td>67</td>\n",
       "      <td>1296.43</td>\n",
       "    </tr>\n",
       "    <tr>\n",
       "      <th>5877</th>\n",
       "      <td>18287.0</td>\n",
       "      <td>43</td>\n",
       "      <td>155</td>\n",
       "      <td>4182.99</td>\n",
       "    </tr>\n",
       "  </tbody>\n",
       "</table>\n",
       "<p>5878 rows × 4 columns</p>\n",
       "</div>"
      ],
      "text/plain": [
       "      Customer ID  Recency  Frequency  MonetaryValue\n",
       "0         12346.0      326         34       77556.46\n",
       "1         12347.0        3        222        4921.53\n",
       "2         12348.0       76         51        2019.40\n",
       "3         12349.0       19        175        4428.69\n",
       "4         12350.0      311         17         334.40\n",
       "...           ...      ...        ...            ...\n",
       "5873      18283.0        4        938        2664.90\n",
       "5874      18284.0      432         28         461.68\n",
       "5875      18285.0      661         12         427.00\n",
       "5876      18286.0      477         67        1296.43\n",
       "5877      18287.0       43        155        4182.99\n",
       "\n",
       "[5878 rows x 4 columns]"
      ]
     },
     "execution_count": 3,
     "metadata": {},
     "output_type": "execute_result"
    }
   ],
   "source": [
    "rfm"
   ]
  },
  {
   "cell_type": "code",
   "execution_count": 4,
   "id": "8c289b40",
   "metadata": {},
   "outputs": [
    {
     "data": {
      "text/plain": [
       "<AxesSubplot:xlabel='MonetaryValue', ylabel='Count'>"
      ]
     },
     "execution_count": 4,
     "metadata": {},
     "output_type": "execute_result"
    },
    {
     "data": {
      "image/png": "[encoded data removed]",
      "text/plain": [
       "<Figure size 720x432 with 3 Axes>"
      ]
     },
     "metadata": {
      "needs_background": "light"
     },
     "output_type": "display_data"
    }
   ],
   "source": [
    "#observe distributions of recency, frequency and monetary values\n",
    "plt.rcParams['figure.figsize'] = [10,6]\n",
    "plt.subplot(3,1,1)\n",
    "sns.histplot(rfm['Recency'],label='Recency')\n",
    "plt.subplot(3,1,2)\n",
    "sns.histplot(rfm['Frequency'],label='Frequency')\n",
    "plt.subplot(3,1,3)\n",
    "sns.histplot(rfm['MonetaryValue'],label='Monetary Value')"
   ]
  },
  {
   "cell_type": "markdown",
   "id": "ad59a62a",
   "metadata": {},
   "source": [
    "- Clearly the recency, frequency, monetary values are all right skewed. To adjust use log transformation on frequency, monetary value and use square root transformation(observed this gives distribution closer to normal distribution) on recency."
   ]
  },
  {
   "cell_type": "code",
   "execution_count": 5,
   "id": "88232811",
   "metadata": {},
   "outputs": [],
   "source": [
    "rfm['Recency'] = np.sqrt(rfm['Recency']).round(2)\n",
    "rfm['Frequency'] = np.log(rfm['Frequency']).round(2)\n",
    "rfm['MonetaryValue'] = np.log(rfm['MonetaryValue']).round(2)"
   ]
  },
  {
   "cell_type": "code",
   "execution_count": 6,
   "id": "9828311f",
   "metadata": {},
   "outputs": [
    {
     "data": {
      "text/plain": [
       "<AxesSubplot:xlabel='MonetaryValue', ylabel='Count'>"
      ]
     },
     "execution_count": 6,
     "metadata": {},
     "output_type": "execute_result"
    },
    {
     "data": {
      "image/png": "[encoded data removed]",
      "text/plain": [
       "<Figure size 720x432 with 3 Axes>"
      ]
     },
     "metadata": {
      "needs_background": "light"
     },
     "output_type": "display_data"
    }
   ],
   "source": [
    "plt.rcParams['figure.figsize'] = [10,6]\n",
    "plt.subplot(3,1,1)\n",
    "sns.histplot(rfm['Recency'],label='Recency')\n",
    "plt.subplot(3,1,2)\n",
    "sns.histplot(rfm['Frequency'],label='Frequency')\n",
    "plt.subplot(3,1,3)\n",
    "sns.histplot(rfm['MonetaryValue'],label='Monetary Value')"
   ]
  },
  {
   "cell_type": "code",
   "execution_count": 7,
   "id": "dbdd990b",
   "metadata": {},
   "outputs": [
    {
     "data": {
      "text/plain": [
       "<AxesSubplot:xlabel='MonetaryValue'>"
      ]
     },
     "execution_count": 7,
     "metadata": {},
     "output_type": "execute_result"
    },
    {
     "data": {
      "image/png": "[encoded data removed]",
      "text/plain": [
       "<Figure size 720x360 with 3 Axes>"
      ]
     },
     "metadata": {
      "needs_background": "light"
     },
     "output_type": "display_data"
    }
   ],
   "source": [
    "#check for outliers\n",
    "plt.rcParams['figure.figsize'] = [10,5]\n",
    "plt.subplot(3,1,1)\n",
    "sns.boxplot(x='Recency',data=rfm)\n",
    "plt.subplot(3,1,2)\n",
    "sns.boxplot(x='Frequency',data=rfm)\n",
    "plt.subplot(3,1,3)\n",
    "sns.boxplot(x='MonetaryValue',data=rfm)"
   ]
  },
  {
   "cell_type": "markdown",
   "id": "66863701",
   "metadata": {},
   "source": [
    "- Outliers are present in frequency and monetary values. Calculate the inter quantile range, find the upper and lower bounds, then cap and floor the outliers"
   ]
  },
  {
   "cell_type": "code",
   "execution_count": 8,
   "id": "dcd348c7",
   "metadata": {},
   "outputs": [],
   "source": [
    "def limit(x):\n",
    "    Q1 = np.percentile(x,25)\n",
    "    Q3 = np.percentile(x,75)\n",
    "    IQR = Q3 - Q1\n",
    "    lower = Q1 - (1.5*IQR)\n",
    "    upper = Q3 + (1.5*IQR)\n",
    "    return(lower,upper)"
   ]
  },
  {
   "cell_type": "code",
   "execution_count": 9,
   "id": "4dcd8efe",
   "metadata": {},
   "outputs": [],
   "source": [
    "freq_lower, freq_upper = limit(rfm['Frequency'])\n",
    "money_lower, money_upper = limit(rfm['MonetaryValue'])"
   ]
  },
  {
   "cell_type": "code",
   "execution_count": 10,
   "id": "0276fafb",
   "metadata": {},
   "outputs": [],
   "source": [
    "rfm['Frequency'] = np.where(rfm['Frequency'] <freq_lower, freq_lower,rfm['Frequency'])\n",
    "rfm['Frequency'] = np.where(rfm['Frequency'] >freq_upper, freq_upper,rfm['Frequency'])\n",
    "rfm['MonetaryValue'] = np.where(rfm['MonetaryValue'] <money_lower, money_lower,rfm['MonetaryValue'])\n",
    "rfm['MonetaryValue'] = np.where(rfm['MonetaryValue'] >money_upper, money_upper,rfm['MonetaryValue'])"
   ]
  },
  {
   "cell_type": "code",
   "execution_count": 11,
   "id": "a3580ea7",
   "metadata": {},
   "outputs": [
    {
     "data": {
      "text/plain": [
       "<AxesSubplot:xlabel='MonetaryValue'>"
      ]
     },
     "execution_count": 11,
     "metadata": {},
     "output_type": "execute_result"
    },
    {
     "data": {
      "image/png": "[encoded data removed]",
      "text/plain": [
       "<Figure size 720x576 with 2 Axes>"
      ]
     },
     "metadata": {
      "needs_background": "light"
     },
     "output_type": "display_data"
    }
   ],
   "source": [
    "#look for outliers\n",
    "plt.rcParams['figure.figsize'] = [10,8]\n",
    "plt.subplot(3,1,2)\n",
    "sns.boxplot(x='Frequency',data=rfm)\n",
    "plt.subplot(3,1,3)\n",
    "sns.boxplot(x='MonetaryValue',data=rfm)"
   ]
  },
  {
   "cell_type": "code",
   "execution_count": 12,
   "id": "bdb50cde",
   "metadata": {},
   "outputs": [],
   "source": [
    "#standardization\n",
    "scale = StandardScaler()"
   ]
  },
  {
   "cell_type": "code",
   "execution_count": 13,
   "id": "45abf26b",
   "metadata": {},
   "outputs": [],
   "source": [
    "rfm_final = scale.fit_transform(rfm[['Recency','Frequency','MonetaryValue']])\n",
    "rfm_final = pd.DataFrame(rfm_final)\n",
    "rfm_final = rfm_final.round(2)"
   ]
  },
  {
   "cell_type": "code",
   "execution_count": 14,
   "id": "bc97a631",
   "metadata": {},
   "outputs": [],
   "source": [
    "rfm_final.insert(0,'ID',rfm['Customer ID'])\n",
    "rfm_final.columns = rfm.columns"
   ]
  },
  {
   "cell_type": "code",
   "execution_count": 17,
   "id": "3104e992",
   "metadata": {},
   "outputs": [],
   "source": [
    "rfm_final.to_csv('Final_RFM.csv',index=False)"
   ]
  },
  {
   "cell_type": "code",
   "execution_count": null,
   "id": "98a08685",
   "metadata": {},
   "outputs": [],
   "source": []
  }
 ],
 "metadata": {
  "kernelspec": {
   "display_name": "Python 3",
   "language": "python",
   "name": "python3"
  },
  "language_info": {
   "codemirror_mode": {
    "name": "ipython",
    "version": 3
   },
   "file_extension": ".py",
   "mimetype": "text/x-python",
   "name": "python",
   "nbconvert_exporter": "python",
   "pygments_lexer": "ipython3",
   "version": "3.8.8"
  }
 },
 "nbformat": 4,
 "nbformat_minor": 5
}
